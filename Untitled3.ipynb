   {
  "nbformat": 4,
  "nbformat_minor": 0,
  "metadata": {
    "colab": {
      "provenance": [],
      "authorship_tag": "ABX9TyNWUiaSt+sGQLbD/efU9dt1",
      "include_colab_link": true
    },
    "kernelspec": {
      "name": "python3",
      "display_name": "Python 3"
    },
    "language_info": {
      "name": "python"
    }
  },
  "cells": [
    {
      "cell_type": "markdown",
      "metadata": {
        "id": "view-in-github",
        "colab_type": "text"
      },
      "source": [
        "<a href=\"https://colab.research.google.com/github/Kumar-priyam/iot_project/blob/main/Untitled3.ipynb\" target=\"_parent\"><img src=\"https://colab.research.google.com/assets/colab-badge.svg\" alt=\"Open In Colab\"/></a>"
      ]
    },
    {
      "cell_type": "code",
      "execution_count": null,
      "metadata": {
        "id": "TXNTh0NdU59K"
      },
      "outputs": [],
      "source": [
        "# NOTEBOOK TO IMPORT YOUR KAGGLE DATA SOURCES\n",
        "import os\n",
        "import sys\n",
        "from tempfile import NamedTemporaryFile\n",
        "from urllib.request import urlopen\n",
        "from urllib.parse import unquote, urlparse\n",
        "from urllib.error import HTTPError\n",
        "from zipfile import ZipFile\n",
        "import tarfile\n",
        "import shutil\n",
        "\n",
        "CHUNK_SIZE = 40960\n",
        "DATA_SOURCE_MAPPING = 'closed-and-open-eyes:<REDACTED_FOR_BREVITY>'\n",
        "\n",
        "KAGGLE_INPUT_PATH='/kaggle/input'\n",
        "KAGGLE_WORKING_PATH='/kaggle/working'\n",
        "\n",
        "shutil.rmtree(KAGGLE_INPUT_PATH, ignore_errors=True)\n",
        "os.makedirs(KAGGLE_INPUT_PATH, exist_ok=True)\n",
        "os.makedirs(KAGGLE_WORKING_PATH, exist_ok=True)\n",
        "\n",
        "for data_source_mapping in DATA_SOURCE_MAPPING.split(','):\n",
        "    directory, download_url_encoded = data_source_mapping.split(':')\n",
        "    download_url = unquote(download_url_encoded)\n",
        "    filename = os.path.basename(urlparse(download_url).path)\n",
        "    destination_path = os.path.join(KAGGLE_INPUT_PATH, directory)\n",
        "    os.makedirs(destination_path, exist_ok=True)\n",
        "    try:\n",
        "        with urlopen(download_url) as fileres, NamedTemporaryFile() as tfile:\n",
        "            total_length = int(fileres.headers.get('content-length', 0))\n",
        "            print(f'Downloading {directory}, {total_length} bytes')\n",
        "            dl = 0\n",
        "            while True:\n",
        "                data = fileres.read(CHUNK_SIZE)\n",
        "                if not data:\n",
        "                    break\n",
        "                dl += len(data)\n",
        "                tfile.write(data)\n",
        "                done = int(50 * dl / total_length)\n",
        "                sys.stdout.write(f"\\r[{'=' * done}{' ' * (50-done)}] {dl} bytes downloaded")\n",
        "                sys.stdout.flush()\n",
        "            print()\n",
        "            tfile.seek(0)\n",
        "            if filename.endswith('.zip'):\n",
        "                with ZipFile(tfile) as zfile:\n",
        "                    zfile.extractall(destination_path)\n",
        "            else:\n",
        "                with tarfile.open(tfile.name) as tarf:\n",
        "                    tarf.extractall(destination_path)\n",
        "            print(f'Downloaded and extracted {directory}')\n",
        "    except Exception as e:\n",
        "        print(f'Failed to load {download_url} to {destination_path}: {e}')\n"
      ]
    }
